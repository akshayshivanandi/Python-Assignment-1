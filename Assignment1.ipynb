{
 "cells": [
  {
   "cell_type": "raw",
   "id": "603d1ac6",
   "metadata": {},
   "source": [
    "1. In the below elements which of them are values or an expression? eg:- values can be integer or string and expressions will be mathematical operators."
   ]
  },
  {
   "cell_type": "raw",
   "id": "33b7714e",
   "metadata": {},
   "source": [
    "*       = Expression\n",
    "'hello' = value\n",
    "87.8    = value\n",
    "-       = Expression\n",
    "/       = Expression\n",
    "+       = Expression\n",
    "6       = Value"
   ]
  },
  {
   "cell_type": "markdown",
   "id": "b2357f23",
   "metadata": {},
   "source": [
    "2. What is the difference between string and variable?"
   ]
  },
  {
   "cell_type": "raw",
   "id": "4b5b183e",
   "metadata": {},
   "source": [
    "Strings - Strings are the characters anything included in quotes(double or single) in python. Strings can be numbers or letters or any characters inside the quotes.\n",
    "Ex: \"This is a string\" or 'string'\n",
    "    \n",
    "Variables - Variables are reserved memory locations to store the values assigned. Equal sign used after variable automatically assigns the values to it, Variables can be numbers or letters or characters but the first letter cannot start with a number.\n",
    "Ex: a=\"string\"\n",
    "    ex_12=25\n",
    "    \n",
    "    Here a & ex_12 are variables"
   ]
  },
  {
   "cell_type": "markdown",
   "id": "98088313",
   "metadata": {},
   "source": [
    "3. Describe three different data types."
   ]
  },
  {
   "cell_type": "raw",
   "id": "16000a7e",
   "metadata": {},
   "source": [
    "integer(int)= All the numbers such as natural, whole and negative numbers comes under this datatype\n",
    "Ex: 1,5,0,-3\n",
    "string(str)= Any character included in quotes considered as string\n",
    "Ex: \"string_250\"\n",
    "float(float)= All the numbers having decimal places are considered as float datatype.\n",
    "Ex: 35.85,86.5"
   ]
  },
  {
   "cell_type": "markdown",
   "id": "a5b1ed28",
   "metadata": {},
   "source": [
    "4.What is an expression made up of? What do all expressions do?"
   ]
  },
  {
   "cell_type": "markdown",
   "id": "10f4d54b",
   "metadata": {},
   "source": [
    "Expression is a combination of operators and operands, which produces some other value as result. Different types of operators used are Arithmetic, Logical, Relational etc"
   ]
  },
  {
   "cell_type": "markdown",
   "id": "0b3b8798",
   "metadata": {},
   "source": [
    "5.This assignment statements, like spam = 10. What is the difference between an expression and a statement?"
   ]
  },
  {
   "cell_type": "markdown",
   "id": "70792289",
   "metadata": {},
   "source": [
    "Assignment statement do not produce a result, it only assigns the value to the operand. But it is not the case with Expression, as it consists of operators and operands and interprets the result."
   ]
  },
  {
   "cell_type": "raw",
   "id": "a545dc28",
   "metadata": {},
   "source": [
    "6. After running the following code, what does the variable bacon contain?\n",
    "   "
   ]
  },
  {
   "cell_type": "code",
   "execution_count": null,
   "id": "b2d36641",
   "metadata": {},
   "outputs": [],
   "source": [
    "bacon=22\n",
    "bacon+1\n",
    "# It gives result as 23"
   ]
  },
  {
   "cell_type": "markdown",
   "id": "ddefab31",
   "metadata": {},
   "source": [
    "7. What should the values of the following two terms be?"
   ]
  },
  {
   "cell_type": "raw",
   "id": "6e751f97",
   "metadata": {},
   "source": [
    "'spam' + 'spamspam'='spamspamspam'\n",
    "'spam' * 3 = 'spamspamspam'"
   ]
  },
  {
   "cell_type": "markdown",
   "id": "f5554041",
   "metadata": {},
   "source": [
    "8. Why is eggs a valid variable name while 100 is invalid?"
   ]
  },
  {
   "cell_type": "markdown",
   "id": "0185bf1e",
   "metadata": {},
   "source": [
    "In Python, variables are not allowed to start with numbers. So, 'eggs' is considered as variable and not 100"
   ]
  },
  {
   "cell_type": "markdown",
   "id": "dd7c6b97",
   "metadata": {},
   "source": [
    "9. What three functions can be used to get the integer, floating-point number, or string version of a value?"
   ]
  },
  {
   "cell_type": "code",
   "execution_count": null,
   "id": "8e738bd1",
   "metadata": {},
   "outputs": [],
   "source": [
    "a=10\n",
    "int(a)\n",
    "str(a)\n",
    "float(a)"
   ]
  },
  {
   "cell_type": "raw",
   "id": "112a2e4b",
   "metadata": {},
   "source": [
    "10. Why does this expression cause an error? How can you fix it?\n",
    "'I have eaten ' + 99 + ' burritos.'\n"
   ]
  },
  {
   "cell_type": "code",
   "execution_count": null,
   "id": "cb87606a",
   "metadata": {},
   "outputs": [],
   "source": [
    "We cannot concat different data types \n",
    "Here, 'I have eaten' and 'burritos.' are string type and  99 is integer type.\n",
    "if we convert to same data type we can fix the error(i.e., to string type)\n",
    "\n",
    "'I have eaten'+'99'+'burritos'"
   ]
  }
 ],
 "metadata": {
  "kernelspec": {
   "display_name": "Python 3 (ipykernel)",
   "language": "python",
   "name": "python3"
  },
  "language_info": {
   "codemirror_mode": {
    "name": "ipython",
    "version": 3
   },
   "file_extension": ".py",
   "mimetype": "text/x-python",
   "name": "python",
   "nbconvert_exporter": "python",
   "pygments_lexer": "ipython3",
   "version": "3.9.12"
  }
 },
 "nbformat": 4,
 "nbformat_minor": 5
}
